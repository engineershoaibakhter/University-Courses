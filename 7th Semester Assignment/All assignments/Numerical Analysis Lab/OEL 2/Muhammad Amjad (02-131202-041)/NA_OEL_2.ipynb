{
  "nbformat": 4,
  "nbformat_minor": 0,
  "metadata": {
    "colab": {
      "provenance": []
    },
    "kernelspec": {
      "name": "python3",
      "display_name": "Python 3"
    },
    "language_info": {
      "name": "python"
    }
  },
  "cells": [
    {
      "cell_type": "markdown",
      "source": [
        "**Name: Muhammad Amjad**\n",
        "\n",
        "**Enrollment: 02-131202-041**\n",
        "\n",
        "**NA OEL 2**"
      ],
      "metadata": {
        "id": "w7sU1nMRo4mi"
      }
    },
    {
      "cell_type": "markdown",
      "source": [
        "# ***Task 1 Using GOLDEN SECTION SEARCH METHOD***"
      ],
      "metadata": {
        "id": "NndF5Exfb2oR"
      }
    },
    {
      "cell_type": "code",
      "source": [
        "import math"
      ],
      "metadata": {
        "id": "nG8WNctidLC2"
      },
      "execution_count": 2,
      "outputs": []
    },
    {
      "cell_type": "code",
      "source": [
        "from sympy import symbols, diff, solve\n",
        "def is_unimodal(equation, variable):\n",
        "    x = symbols(variable)\n",
        "    derivative = diff(equation, x)\n",
        "    critical_points = solve(derivative, x)\n",
        "    if not critical_points:\n",
        "        return False\n",
        "    signs = [derivative.subs(x, point) for point in critical_points]\n",
        "    is_unimodal = all(signs[i] * signs[i + 1] < 0 for i in range(len(signs) - 1))\n",
        "    return is_unimodal"
      ],
      "metadata": {
        "id": "KKoBwBGddvVK"
      },
      "execution_count": 22,
      "outputs": []
    },
    {
      "cell_type": "code",
      "source": [
        "equation=input('Enter eqution:')"
      ],
      "metadata": {
        "colab": {
          "base_uri": "https://localhost:8080/"
        },
        "id": "nMKyoYuOd1ER",
        "outputId": "5f8e7cfe-37e7-47bd-d67e-d812d9965438"
      },
      "execution_count": 23,
      "outputs": [
        {
          "name": "stdout",
          "output_type": "stream",
          "text": [
            "Enter eqution:2*x**+3*x\n"
          ]
        }
      ]
    },
    {
      "cell_type": "code",
      "source": [
        "from sympy import symbols, sympify\n",
        "\n",
        "def evaluate_equation(equation, x_value):\n",
        "    x = symbols('x')\n",
        "    try:\n",
        "        expression = sympify(equation)\n",
        "        result = expression.subs(x, x_value)\n",
        "        return result\n",
        "    except Exception as e:\n",
        "        print(f\"Error: {e}\")\n",
        "        return None\n",
        "\n",
        "\n"
      ],
      "metadata": {
        "id": "riUpooT4ht29"
      },
      "execution_count": 33,
      "outputs": []
    },
    {
      "cell_type": "code",
      "source": [
        "def function(x_value):\n",
        "  return evaluate_equation(equation, x_value)"
      ],
      "metadata": {
        "id": "vMqKIP5Vfn19"
      },
      "execution_count": 34,
      "outputs": []
    },
    {
      "cell_type": "code",
      "source": [
        "print(function(3))"
      ],
      "metadata": {
        "colab": {
          "base_uri": "https://localhost:8080/"
        },
        "id": "rx4Qcl_IgIoX",
        "outputId": "5730c060-932d-4b0d-c22f-837ed7734d36"
      },
      "execution_count": 35,
      "outputs": [
        {
          "output_type": "stream",
          "name": "stdout",
          "text": [
            "18\n"
          ]
        }
      ]
    },
    {
      "cell_type": "code",
      "source": [
        "def golden_section_search_for_min(function, a, b, tolerance=1e-5):\n",
        "    phi = (1 + math.sqrt(5)) / 2\n",
        "    while abs(b - a) > tolerance:\n",
        "        x1 = b-(b - a)/phi\n",
        "        x2 = a + (b - a)/phi\n",
        "        if function(x1) < function(x2):\n",
        "            b=x2\n",
        "        else:\n",
        "            a = x1\n",
        "\n",
        "    return (a + b)/ 2"
      ],
      "metadata": {
        "id": "BWewuqG-f2ul"
      },
      "execution_count": 36,
      "outputs": []
    },
    {
      "cell_type": "code",
      "source": [
        "def golden_section_search_for_max(function,a,b,tolerance=1e-5):\n",
        "  phi=(1+5**1/2)/2\n",
        "\n",
        "  while abs(b-a)>tolerance:\n",
        "    x1=b-(b-a)/phi\n",
        "    x2=a+(b-a)/phi\n",
        "\n",
        "    if function(x1)>function(x2):\n",
        "      b=x2\n",
        "    else:\n",
        "      a=x1\n",
        "  return (a+b)/2\n"
      ],
      "metadata": {
        "id": "gQ5IyX4Ff5vM"
      },
      "execution_count": 37,
      "outputs": []
    },
    {
      "cell_type": "code",
      "source": [
        "if is_unimodal(equation,'x'):\n",
        "  print('Equtaion is unimodal')\n",
        "  a=float(input('Enter a: '))\n",
        "  b=float(input('Enter b: '))\n",
        "  max=golden_section_search_for_max(function,a,b,tolerance=1e-5)\n",
        "  min=golden_section_search_for_min(function, a, b, tolerance=1e-5)\n",
        "  print('Maximum: ',max)\n",
        "  print('\\nMinimum: ',min)\n",
        "else:\n",
        "  print('NOt a unimodal.')"
      ],
      "metadata": {
        "colab": {
          "base_uri": "https://localhost:8080/"
        },
        "id": "TsDA1EGceAK8",
        "outputId": "4f4a8046-fce4-4aa2-901d-abd7656ffeb8"
      },
      "execution_count": 38,
      "outputs": [
        {
          "output_type": "stream",
          "name": "stdout",
          "text": [
            "Equtaion is unimodal\n",
            "Enter a: 3\n",
            "Enter b: 7\n",
            "Maximum:  6.99999706156\n",
            "\n",
            "Minimum:  3.0000045536925892\n"
          ]
        }
      ]
    },
    {
      "cell_type": "markdown",
      "source": [
        "# **Task 2 using Simpson Rule**"
      ],
      "metadata": {
        "id": "U3JSCuuXioxq"
      }
    },
    {
      "cell_type": "markdown",
      "source": [
        "**Log A: Simpson 3/8 Rule**"
      ],
      "metadata": {
        "id": "JYNqVbOGkDvh"
      }
    },
    {
      "cell_type": "code",
      "source": [
        "def simpson_three_eight_rule_with_datapoints(datapoints):\n",
        "  n=len(datapoints)-1\n",
        "  h=datapoints[1][0]-datapoints[0][0]\n",
        "  integral=datapoints[0][1]+datapoints[-1][-1]\n",
        "  for i in range(1,n):\n",
        "    if i%3==0:\n",
        "      integral+=2*datapoints[i][1]\n",
        "    else:\n",
        "      integral+=3*datapoints[i][1]\n",
        "  return integral*(3*h/8)\n",
        "datapoints=[(0,3.1),(1,4),(2,4.65),(3,6.6),(4,8.88),(5,9.49),(6,9.46),(7,9.2),(8,8.88),(9,8.65),(10,8.3),(11,7.32),(12,6.47),(13,5.8),(14,5.2),(15,3.7),(16,3.1),(17,1.4),(18,0.5)]\n",
        "print('Result is ',simpson_three_eight_rule_with_datapoints(datapoints))"
      ],
      "metadata": {
        "colab": {
          "base_uri": "https://localhost:8080/"
        },
        "id": "L2Y7l9TDjOB9",
        "outputId": "972a671c-7b9b-4ab6-87e6-983c02ab429d"
      },
      "execution_count": 41,
      "outputs": [
        {
          "output_type": "stream",
          "name": "stdout",
          "text": [
            "Result is  113.2575\n"
          ]
        }
      ]
    },
    {
      "cell_type": "markdown",
      "source": [
        "**Log B: Simpson Rule 1/3**"
      ],
      "metadata": {
        "id": "-lbZ-xrsoxVw"
      }
    },
    {
      "cell_type": "code",
      "source": [
        "import math\n",
        "\n",
        "def simpson_rule(a,b,n):\n",
        "  h=(b-a)/n\n",
        "\n",
        "  x_values=[2,3,4,5,6,7,8,9,10,11,12,13,14,15,16]\n",
        "  f_x_values=[3,5.34,7.2,8.3,9.34,10,9.8,9.47,8.85,7.8,7.83,7.89,7.86,5.34,3]\n",
        "\n",
        "\n",
        "  result=0\n",
        "  i=0\n",
        "\n",
        "  while i<n:\n",
        "    if i==a or i==b:\n",
        "      result+=f_x_values[i]\n",
        "\n",
        "    elif i%2==0:\n",
        "      result+=2*f_x_values[i]\n",
        "\n",
        "    else:\n",
        "      result+=4*f_x_values[i]\n",
        "\n",
        "    i+=1\n",
        "\n",
        "  return result*(h/3)\n",
        "\n",
        "print('Result: ',simpson_rule(2,16,12))"
      ],
      "metadata": {
        "colab": {
          "base_uri": "https://localhost:8080/"
        },
        "id": "7PROg7UPkWeg",
        "outputId": "3892188d-d33c-485e-8156-5f0e27302918"
      },
      "execution_count": 42,
      "outputs": [
        {
          "output_type": "stream",
          "name": "stdout",
          "text": [
            "Result:  108.90444444444444\n"
          ]
        }
      ]
    }
  ]
}